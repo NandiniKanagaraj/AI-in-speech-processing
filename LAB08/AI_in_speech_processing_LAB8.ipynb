{
  "nbformat": 4,
  "nbformat_minor": 0,
  "metadata": {
    "colab": {
      "provenance": []
    },
    "kernelspec": {
      "name": "python3",
      "display_name": "Python 3"
    },
    "language_info": {
      "name": "python"
    }
  },
  "cells": [
    {
      "cell_type": "code",
      "source": [
        "!pip install pydub\n",
        "!pip install moviepy\n"
      ],
      "metadata": {
        "colab": {
          "base_uri": "https://localhost:8080/"
        },
        "id": "UWeHVNIOwrUM",
        "outputId": "ff9e62b2-4c48-46b5-e598-005f06a22f76"
      },
      "execution_count": null,
      "outputs": [
        {
          "output_type": "stream",
          "name": "stdout",
          "text": [
            "Requirement already satisfied: pydub in /usr/local/lib/python3.10/dist-packages (0.25.1)\n",
            "Requirement already satisfied: moviepy in /usr/local/lib/python3.10/dist-packages (1.0.3)\n",
            "Requirement already satisfied: decorator<5.0,>=4.0.2 in /usr/local/lib/python3.10/dist-packages (from moviepy) (4.4.2)\n",
            "Requirement already satisfied: tqdm<5.0,>=4.11.2 in /usr/local/lib/python3.10/dist-packages (from moviepy) (4.66.2)\n",
            "Requirement already satisfied: requests<3.0,>=2.8.1 in /usr/local/lib/python3.10/dist-packages (from moviepy) (2.31.0)\n",
            "Requirement already satisfied: proglog<=1.0.0 in /usr/local/lib/python3.10/dist-packages (from moviepy) (0.1.10)\n",
            "Requirement already satisfied: numpy>=1.17.3 in /usr/local/lib/python3.10/dist-packages (from moviepy) (1.25.2)\n",
            "Requirement already satisfied: imageio<3.0,>=2.5 in /usr/local/lib/python3.10/dist-packages (from moviepy) (2.31.6)\n",
            "Requirement already satisfied: imageio-ffmpeg>=0.2.0 in /usr/local/lib/python3.10/dist-packages (from moviepy) (0.4.9)\n",
            "Requirement already satisfied: pillow<10.1.0,>=8.3.2 in /usr/local/lib/python3.10/dist-packages (from imageio<3.0,>=2.5->moviepy) (9.4.0)\n",
            "Requirement already satisfied: setuptools in /usr/local/lib/python3.10/dist-packages (from imageio-ffmpeg>=0.2.0->moviepy) (67.7.2)\n",
            "Requirement already satisfied: charset-normalizer<4,>=2 in /usr/local/lib/python3.10/dist-packages (from requests<3.0,>=2.8.1->moviepy) (3.3.2)\n",
            "Requirement already satisfied: idna<4,>=2.5 in /usr/local/lib/python3.10/dist-packages (from requests<3.0,>=2.8.1->moviepy) (3.6)\n",
            "Requirement already satisfied: urllib3<3,>=1.21.1 in /usr/local/lib/python3.10/dist-packages (from requests<3.0,>=2.8.1->moviepy) (2.0.7)\n",
            "Requirement already satisfied: certifi>=2017.4.17 in /usr/local/lib/python3.10/dist-packages (from requests<3.0,>=2.8.1->moviepy) (2024.2.2)\n"
          ]
        }
      ]
    },
    {
      "cell_type": "code",
      "source": [
        "from pydub import AudioSegment\n",
        "\n",
        "def convert_m4a_to_wav(m4a_file, wav_file):\n",
        "    # Load the M4A file\n",
        "    audio = AudioSegment.from_file(m4a_file, format=\"m4a\")\n",
        "\n",
        "    # Export the audio to WAV format\n",
        "    audio.export(wav_file, format=\"wav\")\n",
        "\n",
        "# Example usage\n",
        "m4a_file = \"/content/AISIP.m4a\"\n",
        "wav_file = \"Bhanumathiwedsrajat.wav\"\n",
        "convert_m4a_to_wav(m4a_file, wav_file)\n"
      ],
      "metadata": {
        "id": "s24KNZQAwp9P"
      },
      "execution_count": null,
      "outputs": []
    },
    {
      "cell_type": "code",
      "source": [
        "import librosa"
      ],
      "metadata": {
        "id": "3E3pNXHeT5rv"
      },
      "execution_count": null,
      "outputs": []
    },
    {
      "cell_type": "code",
      "source": [
        "speech_data, sr = librosa.load('/content/Bhanumathiwedsrajat.wav', sr=None)\n",
        "\n",
        "librosa.display.waveshow(speech_data)"
      ],
      "metadata": {
        "id": "pSej9_sMzOou",
        "colab": {
          "base_uri": "https://localhost:8080/",
          "height": 467
        },
        "outputId": "f50c4eb3-3019-485e-82d2-6357c2f80ad8"
      },
      "execution_count": null,
      "outputs": [
        {
          "output_type": "execute_result",
          "data": {
            "text/plain": [
              "<librosa.display.AdaptiveWaveplot at 0x7f6a6c7f3e50>"
            ]
          },
          "metadata": {},
          "execution_count": 40
        },
        {
          "output_type": "display_data",
          "data": {
            "text/plain": [
              "<Figure size 640x480 with 1 Axes>"
            ],
            "image/png": "[encoded data removed]"
          },
          "metadata": {}
        }
      ]
    },
    {
      "cell_type": "code",
      "source": [
        "def extract_mfcc(file_path, n_mfcc=13):\n",
        "    # Load the audio file\n",
        "\n",
        "\n",
        "    # Extract MFCC features\n",
        "    mfccs = mfcc(file_path, sr=sr, n_mfcc=n_mfcc)\n",
        "\n",
        "    return mfccs\n",
        "\n",
        "def combine_phonemes(phonemes, word):\n",
        "    # Implement phoneme combination for the given word\n",
        "    pass\n",
        "\n",
        "def synthesize_speech(phonemes):\n",
        "    # Implement speech synthesis using the combined phonemes\n",
        "    pass\n",
        "\n",
        "def play_audio(audio_data):\n",
        "    # Implement audio playback\n",
        "    pass\n"
      ],
      "metadata": {
        "id": "qUEPY3JdzLjD"
      },
      "execution_count": null,
      "outputs": []
    },
    {
      "cell_type": "code",
      "execution_count": null,
      "metadata": {
        "colab": {
          "base_uri": "https://localhost:8080/",
          "height": 109
        },
        "id": "SsCWwob51ykz",
        "outputId": "872166af-f479-45f7-bcb5-9e714dbb3d84"
      },
      "outputs": [
        {
          "output_type": "error",
          "ename": "SyntaxError",
          "evalue": "invalid syntax. Perhaps you forgot a comma? (<ipython-input-84-bcb9523575af>, line 61)",
          "traceback": [
            "\u001b[0;36m  File \u001b[0;32m\"<ipython-input-84-bcb9523575af>\"\u001b[0;36m, line \u001b[0;32m61\u001b[0m\n\u001b[0;31m    print(\"bi lstm with lpc  \"_lstm_model.summary())\u001b[0m\n\u001b[0m          ^\u001b[0m\n\u001b[0;31mSyntaxError\u001b[0m\u001b[0;31m:\u001b[0m invalid syntax. Perhaps you forgot a comma?\n"
          ]
        }
      ],
      "source": [
        "import numpy as np\n",
        "import librosa\n",
        "import tensorflow as tf\n",
        "from tensorflow.keras.models import Sequential\n",
        "from tensorflow.keras.layers import LSTM, Dense\n",
        "from tensorflow.keras.optimizers import Adam\n",
        "\n",
        "# Load speech data\n",
        "def load_data(file_path):\n",
        "    audio_data, _ = librosa.load(file_path, sr=16000)  # Load audio data with a sampling rate of 16kHz\n",
        "    return audio_data\n",
        "\n",
        "# Feature extraction using Short-Time Fourier Transform (STFT)\n",
        "def extract_stft(audio_data):\n",
        "    stft = np.abs(librosa.stft(audio_data, n_fft=400, hop_length=160, win_length=400))\n",
        "    return stft\n",
        "\n",
        "# Define LSTM model\n",
        "def create_lstm_model(input_shape, num_classes):\n",
        "    model = Sequential([\n",
        "        LSTM(64, return_sequences=True, input_shape=input_shape),\n",
        "        Dense(128, activation='relu'),\n",
        "        Dense(num_classes, activation='softmax')\n",
        "    ])\n",
        "    model.compile(loss='sparse_categorical_crossentropy',\n",
        "                  optimizer=Adam(),\n",
        "                  metrics=['accuracy'])\n",
        "    return model\n",
        "\n",
        "# Example usage\n",
        "file_path = \"/content/Bhanumathiwedsrajat.wav\"\n",
        "audio_data = load_data(file_path)\n",
        "stft_features = extract_stft(audio_data)\n",
        "\n",
        "# Reshape STFT features to have the correct shape\n",
        "stft_features = stft_features.T  # Transpose for correct shape\n",
        "stft_features = np.expand_dims(stft_features, axis=0)  # Add batch dimension\n",
        "\n",
        "# For LSTM\n",
        "input_shape_lstm = stft_features.shape[1:]\n",
        "num_classes = 10  # Example number of classes\n",
        "lstm_model = create_lstm_model(input_shape_lstm, num_classes)\n",
        "print(\"lstm with lpc  \", lstm_model.summary())\n",
        "\n",
        "# For Bi-LSTM with stft\n",
        "stft_features = stft.T  # Transpose for correct shape\n",
        "stft_features = np.expand_dims(stft_features, axis=0)  # Add batch dimension\n",
        "\n",
        "input_shape_bi_stft = stft_features.shape[1:]  # Choose MFCC features for input\n",
        "num_classes = 10  # Example number of classes_\n",
        "lstm_stft = create_bi_lstm_model(input_shape_bi_stft, num_classes)\n",
        "print(\"lstm with lpc  \", lstm_model.summary())\n",
        "\n",
        "lpc_features = lcp.T  # Transpose for correct shape\n",
        "lpc_features = np.expand_dims(lpc_features, axis=0)  # Add batch dimension\n",
        "lpc_features = np.expand_dims(lpc_features, axis=1)  # Add time dimension\n",
        "input_shape_lpc = lpc_features.shape[1:]  # Choose MFCC features for input\n",
        "num_classes = 10  # Example number of classes_lstm_model = create_lstm_model(input_shape_bi_lpc, num_classes)\n",
        "\n",
        "# Print model summary\n",
        "print(\"lstm with lpc  \", lstm_model.summary())\n"
      ]
    },
    {
      "cell_type": "code",
      "source": [
        "# Print model summary\n",
        "print(lstm_model.summary())\n"
      ],
      "metadata": {
        "colab": {
          "base_uri": "https://localhost:8080/"
        },
        "id": "oz4rzSGAZ8YE",
        "outputId": "88527c6c-6c31-45e1-cb57-73d04759213f"
      },
      "execution_count": null,
      "outputs": [
        {
          "output_type": "stream",
          "name": "stdout",
          "text": [
            "Model: \"sequential_28\"\n",
            "_________________________________________________________________\n",
            " Layer (type)                Output Shape              Param #   \n",
            "=================================================================\n",
            " lstm_29 (LSTM)              (None, 423, 64)           68096     \n",
            "                                                                 \n",
            " dense_57 (Dense)            (None, 423, 128)          8320      \n",
            "                                                                 \n",
            " dense_58 (Dense)            (None, 423, 10)           1290      \n",
            "                                                                 \n",
            "=================================================================\n",
            "Total params: 77706 (303.54 KB)\n",
            "Trainable params: 77706 (303.54 KB)\n",
            "Non-trainable params: 0 (0.00 Byte)\n",
            "_________________________________________________________________\n",
            "None\n"
          ]
        }
      ]
    },
    {
      "cell_type": "code",
      "source": [
        "import numpy as np\n",
        "import librosa\n",
        "import tensorflow as tf\n",
        "from tensorflow.keras.models import Sequential\n",
        "from tensorflow.keras.layers import Bidirectional, LSTM, Dense\n",
        "from tensorflow.keras.optimizers import Adam\n",
        "\n",
        "# Load speech data\n",
        "def load_data(file_path):\n",
        "    audio_data, _ = librosa.load(file_path, sr=16000)  # Load audio data with a sampling rate of 16kHz\n",
        "    return audio_data\n",
        "\n",
        "# Feature extraction using Short-Time Fourier Transform (STFT)\n",
        "def extract_stft(audio_data):\n",
        "    stft = np.abs(librosa.stft(audio_data, n_fft=400, hop_length=160, win_length=400))\n",
        "    return stft\n",
        "\n",
        "# Feature extraction using Mel-Frequency Cepstral Coefficients (MFCC)\n",
        "def extract_mfcc(audio_data):\n",
        "    mfccs = librosa.feature.mfcc(y=audio_data, sr=16000, n_mfcc=13)\n",
        "    return mfccs\n",
        "\n",
        "# Feature extraction using Linear Predictive Coding (LPC) coefficients\n",
        "def extract_lpc(audio_data):\n",
        "    lpc = librosa.lpc(audio_data, order=16)\n",
        "    return lpc\n",
        "\n",
        "# Define Bi-LSTM model\n",
        "def create_bi_lstm_model(input_shape, num_classes):\n",
        "    model = Sequential([\n",
        "        Bidirectional(LSTM(64, return_sequences=True), input_shape=input_shape),\n",
        "        Dense(128, activation='relu'),\n",
        "        Dense(num_classes, activation='softmax')\n",
        "    ])\n",
        "    model.compile(loss='sparse_categorical_crossentropy',\n",
        "                  optimizer=Adam(),\n",
        "                  metrics=['accuracy'])\n",
        "    return model\n",
        "\n",
        "# Example usage\n",
        "file_path = \"/content/Bhanumathiwedsrajat.wav\"\n",
        "audio_data = load_data(file_path)\n",
        "stft_features = extract_stft(audio_data)\n",
        "mfcc_features = extract_mfcc(audio_data)\n",
        "lpc_features = extract_lpc(audio_data)\n",
        "\n",
        "stft_features = stft_features.T  # Transpose for correct shape\n",
        "stft_features = np.expand_dims(stft_features, axis=0)\n",
        "\n",
        "# For Bi-LSTM\n",
        "input_shape_bi_lstm = mfcc_features.shape[1:]  # Choose MFCC features for input\n",
        "num_classes = 10  # Example number of classes\n",
        "bi_lstm_model = create_bi_lstm_model(input_shape_bi_lstm, num_classes)\n"
      ],
      "metadata": {
        "id": "6MUnoGL2a-Ap"
      },
      "execution_count": null,
      "outputs": []
    },
    {
      "cell_type": "code",
      "source": [],
      "metadata": {
        "colab": {
          "base_uri": "https://localhost:8080/"
        },
        "id": "pMczBmJZbb_a",
        "outputId": "acfc348e-b38e-456f-8259-78dad5a507f6"
      },
      "execution_count": null,
      "outputs": [
        {
          "output_type": "stream",
          "name": "stdout",
          "text": [
            "Model: \"sequential_31\"\n",
            "_________________________________________________________________\n",
            " Layer (type)                Output Shape              Param #   \n",
            "=================================================================\n",
            " bidirectional_12 (Bidirect  (None, 133, 128)          39936     \n",
            " ional)                                                          \n",
            "                                                                 \n",
            " dense_63 (Dense)            (None, 133, 128)          16512     \n",
            "                                                                 \n",
            " dense_64 (Dense)            (None, 133, 10)           1290      \n",
            "                                                                 \n",
            "=================================================================\n",
            "Total params: 57738 (225.54 KB)\n",
            "Trainable params: 57738 (225.54 KB)\n",
            "Non-trainable params: 0 (0.00 Byte)\n",
            "_________________________________________________________________\n",
            "None\n"
          ]
        }
      ]
    },
    {
      "cell_type": "code",
      "source": [
        "import numpy as np\n",
        "import librosa\n",
        "import tensorflow as tf\n",
        "from tensorflow.keras.models import Sequential\n",
        "from tensorflow.keras.layers import Bidirectional, LSTM, Dense, Dropout\n",
        "from tensorflow.keras.optimizers import Adam\n",
        "\n",
        "# Load speech data\n",
        "def load_data(file_path):\n",
        "    audio_data, _ = librosa.load(file_path, sr=16000)  # Load audio data with a sampling rate of 16kHz\n",
        "    return audio_data\n",
        "\n",
        "# Feature extraction using Short-Time Fourier Transform (STFT)\n",
        "def extract_stft(audio_data):\n",
        "    stft = np.abs(librosa.stft(audio_data, n_fft=400, hop_length=160, win_length=400))\n",
        "    return stft\n",
        "\n",
        "# Feature extraction using Mel-Frequency Cepstral Coefficients (MFCC)\n",
        "def extract_mfcc(audio_data):\n",
        "    mfccs = librosa.feature.mfcc(y=audio_data, sr=16000, n_mfcc=13)\n",
        "    return mfccs\n",
        "\n",
        "# Feature extraction using Linear Predictive Coding (LPC) coefficients\n",
        "def extract_lpc(audio_data):\n",
        "    lpc = librosa.lpc(audio_data, order=16)\n",
        "    return lpc\n",
        "\n",
        "# Define Bi-LSTM model\n",
        "def create_bi_lstm_model(input_shape, num_classes):\n",
        "    model = Sequential([\n",
        "        Bidirectional(LSTM(64, return_sequences=True), input_shape=input_shape),\n",
        "        Dense(128, activation='relu'),\n",
        "        Dense(num_classes, activation='softmax')\n",
        "    ])\n",
        "    model.compile(loss='sparse_categorical_crossentropy',\n",
        "                  optimizer=Adam(),\n",
        "                  metrics=['accuracy'])\n",
        "    return model\n",
        "\n",
        "# Example usage\n",
        "file_path = \"/content/Bhanumathiwedsrajat.wav\"\n",
        "audio_data = load_data(file_path)\n",
        "mfcc_features = extract_mfcc(audio_data)\n",
        "stft = extract_mfcc(audio_data)\n",
        "lcp = extract_lpc(audio_data)\n",
        "# Reshape MFCC features to have the correct shape\n",
        "mfcc_features = mfcc_features.T  # Transpose for correct shape\n",
        "mfcc_features = np.expand_dims(mfcc_features, axis=0)  # Add batch dimension\n",
        "\n",
        "# For Bi-LSTM with mfcc\n",
        "input_shape_bi_lstm = mfcc_features.shape[1:]  # Choose MFCC features for input\n",
        "num_classes = 10  # Example number of classes\n",
        "bi_lstm_model = create_bi_lstm_model(input_shape_bi_lstm, num_classes)\n",
        "print(\"bi lstm with mfcc\",bi_lstm_model.summary())\n",
        "\n",
        "\n",
        "# For Bi-LSTM with stft\n",
        "stft_features = stft.T  # Transpose for correct shape\n",
        "stft_features = np.expand_dims(stft_features, axis=0)  # Add batch dimension\n",
        "\n",
        "input_shape_bi_stft = stft_features.shape[1:]  # Choose MFCC features for input\n",
        "num_classes = 10  # Example number of classes\n",
        "bi_lstm_stft = create_bi_lstm_model(input_shape_bi_stft, num_classes)\n",
        "print(\"bi lstm with stft \",bi_lstm_model.summary())\n",
        "\n",
        "lpc_features = lcp.T  # Transpose for correct shape\n",
        "lpc_features = np.expand_dims(lpc_features, axis=0)  # Add batch dimension\n",
        "lpc_features = np.expand_dims(lpc_features, axis=1)  # Add time dimension\n",
        "input_shape_bi_lpc = lpc_features.shape[1:]  # Choose MFCC features for input\n",
        "num_classes = 10  # Example number of classes\n",
        "bi_lstm_model = create_bi_lstm_model(input_shape_bi_lpc, num_classes)\n",
        "\n",
        "# Print model summary\n",
        "print(\"bi lstm with lpc  \",bi_lstm_model.summary())"
      ],
      "metadata": {
        "colab": {
          "base_uri": "https://localhost:8080/"
        },
        "id": "XepXpQn1cUZh",
        "outputId": "dc766fc6-d36d-4f4b-9088-5944e66ce461"
      },
      "execution_count": null,
      "outputs": [
        {
          "output_type": "stream",
          "name": "stdout",
          "text": [
            "Model: \"sequential_45\"\n",
            "_________________________________________________________________\n",
            " Layer (type)                Output Shape              Param #   \n",
            "=================================================================\n",
            " bidirectional_26 (Bidirect  (None, 133, 128)          39936     \n",
            " ional)                                                          \n",
            "                                                                 \n",
            " dense_91 (Dense)            (None, 133, 128)          16512     \n",
            "                                                                 \n",
            " dense_92 (Dense)            (None, 133, 10)           1290      \n",
            "                                                                 \n",
            "=================================================================\n",
            "Total params: 57738 (225.54 KB)\n",
            "Trainable params: 57738 (225.54 KB)\n",
            "Non-trainable params: 0 (0.00 Byte)\n",
            "_________________________________________________________________\n",
            "bi lstm with mfcc None\n",
            "Model: \"sequential_45\"\n",
            "_________________________________________________________________\n",
            " Layer (type)                Output Shape              Param #   \n",
            "=================================================================\n",
            " bidirectional_26 (Bidirect  (None, 133, 128)          39936     \n",
            " ional)                                                          \n",
            "                                                                 \n",
            " dense_91 (Dense)            (None, 133, 128)          16512     \n",
            "                                                                 \n",
            " dense_92 (Dense)            (None, 133, 10)           1290      \n",
            "                                                                 \n",
            "=================================================================\n",
            "Total params: 57738 (225.54 KB)\n",
            "Trainable params: 57738 (225.54 KB)\n",
            "Non-trainable params: 0 (0.00 Byte)\n",
            "_________________________________________________________________\n",
            "bi lstm with stft  None\n",
            "Model: \"sequential_47\"\n",
            "_________________________________________________________________\n",
            " Layer (type)                Output Shape              Param #   \n",
            "=================================================================\n",
            " bidirectional_28 (Bidirect  (None, 1, 128)            41984     \n",
            " ional)                                                          \n",
            "                                                                 \n",
            " dense_95 (Dense)            (None, 1, 128)            16512     \n",
            "                                                                 \n",
            " dense_96 (Dense)            (None, 1, 10)             1290      \n",
            "                                                                 \n",
            "=================================================================\n",
            "Total params: 59786 (233.54 KB)\n",
            "Trainable params: 59786 (233.54 KB)\n",
            "Non-trainable params: 0 (0.00 Byte)\n",
            "_________________________________________________________________\n",
            "bi lstm with lpc   None\n"
          ]
        }
      ]
    },
    {
      "cell_type": "code",
      "source": [
        "print(stft_features.shape)\n",
        "print(mfcc_features.shape)\n",
        "print(lpc_features.shape)"
      ],
      "metadata": {
        "colab": {
          "base_uri": "https://localhost:8080/"
        },
        "id": "OzGdvVe7gw6Y",
        "outputId": "3bac9910-be6f-46cb-9fc8-4215a972f129"
      },
      "execution_count": null,
      "outputs": [
        {
          "output_type": "stream",
          "name": "stdout",
          "text": [
            "(1, 133, 13)\n",
            "(1, 133, 13)\n",
            "(1, 1, 17)\n"
          ]
        }
      ]
    },
    {
      "cell_type": "code",
      "source": [
        "import numpy as np\n",
        "def extract_features(audio_samples, sample_rate):\n",
        "    stft_features = np.abs(stft(audio_samples, fs=sample_rate, nperseg=400, noverlap=240)[2])  # Short-Time Fourier Transform\n",
        "    mfcc_features = mfcc(audio_samples, samplerate=sample_rate)  # MFCC\n",
        "    # Calculate Linear Prediction Coefficients (LPC) using a library or your custom implementation\n",
        "    lpc_features = calculate_lpc(audio_samples)\n",
        "    return stft_features, mfcc_features, lpc_features"
      ],
      "metadata": {
        "id": "bPKn0jeCiDcT"
      },
      "execution_count": null,
      "outputs": []
    },
    {
      "cell_type": "code",
      "source": [
        "import soundfile as sf\n",
        "# function to load test audio and extract features\n",
        "def load_and_extract_test_features(test_audio_file):\n",
        "    # Load test audio file\n",
        "    test_audio_samples, test_sample_rate = sf.read(test_audio_file)\n",
        "    # Extract features from test audio samples\n",
        "    test_stft_features, test_mfcc_features, test_lpc_features = extract_features(test_audio_samples, test_sample_rate)\n",
        "    return test_stft_features, test_mfcc_features, test_lpc_features\n",
        "\n",
        "# Load and extract features from test audio file\n",
        "test_audio_file = \"/content/Bhanumathiwedsrajat.wav\"  # Replace with your test audio file\n",
        "test_stft_features, test_mfcc_features, test_lpc_features = load_and_extract_test_features(test_audio_file)\n",
        "\n",
        "# Predictions\n",
        "# Reshape features with an additional axis for timesteps\n",
        "test_stft_features = np.expand_dims(test_stft_features, axis=1)\n",
        "test_mfcc_features = np.expand_dims(test_mfcc_features, axis=1)\n",
        "test_lpc_features = np.expand_dims(test_lpc_features, axis=1)\n",
        "\n",
        "\n",
        "# Print predictions\n",
        "print(\"STFT LSTM Predictions:\", stft_lstm_predictions)\n",
        "print(\"MFCC Bi-LSTM Predictions:\", mfcc_bilstm_predictions)\n",
        "print(\"LPC Bi-LSTM Predictions:\", lpc_bilstm_predictions)\n",
        "\n",
        "# Placeholder labels for demonstration\n",
        "labels_stft = np.random.randint(0, 10, size=len(test_stft_features))  # Assuming 10 output classes\n",
        "labels_mfcc = np.random.randint(0, 10, size=len(test_mfcc_features))\n",
        "labels_lpc = np.random.randint(0, 10, size=len(test_lpc_features))\n",
        "\n"
      ],
      "metadata": {
        "colab": {
          "base_uri": "https://localhost:8080/",
          "height": 423
        },
        "id": "bdEhYeJWhSB1",
        "outputId": "7a71c31b-7654-465e-97a5-c44fa5706611"
      },
      "execution_count": null,
      "outputs": [
        {
          "output_type": "error",
          "ename": "TypeError",
          "evalue": "'numpy.ndarray' object is not callable",
          "traceback": [
            "\u001b[0;31m---------------------------------------------------------------------------\u001b[0m",
            "\u001b[0;31mTypeError\u001b[0m                                 Traceback (most recent call last)",
            "\u001b[0;32m<ipython-input-83-93c76988dbdb>\u001b[0m in \u001b[0;36m<cell line: 12>\u001b[0;34m()\u001b[0m\n\u001b[1;32m     10\u001b[0m \u001b[0;31m# Load and extract features from test audio file\u001b[0m\u001b[0;34m\u001b[0m\u001b[0;34m\u001b[0m\u001b[0m\n\u001b[1;32m     11\u001b[0m \u001b[0mtest_audio_file\u001b[0m \u001b[0;34m=\u001b[0m \u001b[0;34m\"/content/Bhanumathiwedsrajat.wav\"\u001b[0m  \u001b[0;31m# Replace with your test audio file\u001b[0m\u001b[0;34m\u001b[0m\u001b[0;34m\u001b[0m\u001b[0m\n\u001b[0;32m---> 12\u001b[0;31m \u001b[0mtest_stft_features\u001b[0m\u001b[0;34m,\u001b[0m \u001b[0mtest_mfcc_features\u001b[0m\u001b[0;34m,\u001b[0m \u001b[0mtest_lpc_features\u001b[0m \u001b[0;34m=\u001b[0m \u001b[0mload_and_extract_test_features\u001b[0m\u001b[0;34m(\u001b[0m\u001b[0mtest_audio_file\u001b[0m\u001b[0;34m)\u001b[0m\u001b[0;34m\u001b[0m\u001b[0;34m\u001b[0m\u001b[0m\n\u001b[0m\u001b[1;32m     13\u001b[0m \u001b[0;34m\u001b[0m\u001b[0m\n\u001b[1;32m     14\u001b[0m \u001b[0;31m# Predictions\u001b[0m\u001b[0;34m\u001b[0m\u001b[0;34m\u001b[0m\u001b[0m\n",
            "\u001b[0;32m<ipython-input-83-93c76988dbdb>\u001b[0m in \u001b[0;36mload_and_extract_test_features\u001b[0;34m(test_audio_file)\u001b[0m\n\u001b[1;32m      5\u001b[0m     \u001b[0mtest_audio_samples\u001b[0m\u001b[0;34m,\u001b[0m \u001b[0mtest_sample_rate\u001b[0m \u001b[0;34m=\u001b[0m \u001b[0msf\u001b[0m\u001b[0;34m.\u001b[0m\u001b[0mread\u001b[0m\u001b[0;34m(\u001b[0m\u001b[0mtest_audio_file\u001b[0m\u001b[0;34m)\u001b[0m\u001b[0;34m\u001b[0m\u001b[0;34m\u001b[0m\u001b[0m\n\u001b[1;32m      6\u001b[0m     \u001b[0;31m# Extract features from test audio samples\u001b[0m\u001b[0;34m\u001b[0m\u001b[0;34m\u001b[0m\u001b[0m\n\u001b[0;32m----> 7\u001b[0;31m     \u001b[0mtest_stft_features\u001b[0m\u001b[0;34m,\u001b[0m \u001b[0mtest_mfcc_features\u001b[0m\u001b[0;34m,\u001b[0m \u001b[0mtest_lpc_features\u001b[0m \u001b[0;34m=\u001b[0m \u001b[0mextract_features\u001b[0m\u001b[0;34m(\u001b[0m\u001b[0mtest_audio_samples\u001b[0m\u001b[0;34m,\u001b[0m \u001b[0mtest_sample_rate\u001b[0m\u001b[0;34m)\u001b[0m\u001b[0;34m\u001b[0m\u001b[0;34m\u001b[0m\u001b[0m\n\u001b[0m\u001b[1;32m      8\u001b[0m     \u001b[0;32mreturn\u001b[0m \u001b[0mtest_stft_features\u001b[0m\u001b[0;34m,\u001b[0m \u001b[0mtest_mfcc_features\u001b[0m\u001b[0;34m,\u001b[0m \u001b[0mtest_lpc_features\u001b[0m\u001b[0;34m\u001b[0m\u001b[0;34m\u001b[0m\u001b[0m\n\u001b[1;32m      9\u001b[0m \u001b[0;34m\u001b[0m\u001b[0m\n",
            "\u001b[0;32m<ipython-input-82-8d7e3284aa58>\u001b[0m in \u001b[0;36mextract_features\u001b[0;34m(audio_samples, sample_rate)\u001b[0m\n\u001b[1;32m      1\u001b[0m \u001b[0;32mimport\u001b[0m \u001b[0mnumpy\u001b[0m \u001b[0;32mas\u001b[0m \u001b[0mnp\u001b[0m\u001b[0;34m\u001b[0m\u001b[0;34m\u001b[0m\u001b[0m\n\u001b[1;32m      2\u001b[0m \u001b[0;32mdef\u001b[0m \u001b[0mextract_features\u001b[0m\u001b[0;34m(\u001b[0m\u001b[0maudio_samples\u001b[0m\u001b[0;34m,\u001b[0m \u001b[0msample_rate\u001b[0m\u001b[0;34m)\u001b[0m\u001b[0;34m:\u001b[0m\u001b[0;34m\u001b[0m\u001b[0;34m\u001b[0m\u001b[0m\n\u001b[0;32m----> 3\u001b[0;31m     \u001b[0mstft_features\u001b[0m \u001b[0;34m=\u001b[0m \u001b[0mnp\u001b[0m\u001b[0;34m.\u001b[0m\u001b[0mabs\u001b[0m\u001b[0;34m(\u001b[0m\u001b[0mstft\u001b[0m\u001b[0;34m(\u001b[0m\u001b[0maudio_samples\u001b[0m\u001b[0;34m,\u001b[0m \u001b[0mfs\u001b[0m\u001b[0;34m=\u001b[0m\u001b[0msample_rate\u001b[0m\u001b[0;34m,\u001b[0m \u001b[0mnperseg\u001b[0m\u001b[0;34m=\u001b[0m\u001b[0;36m400\u001b[0m\u001b[0;34m,\u001b[0m \u001b[0mnoverlap\u001b[0m\u001b[0;34m=\u001b[0m\u001b[0;36m240\u001b[0m\u001b[0;34m)\u001b[0m\u001b[0;34m[\u001b[0m\u001b[0;36m2\u001b[0m\u001b[0;34m]\u001b[0m\u001b[0;34m)\u001b[0m  \u001b[0;31m# Short-Time Fourier Transform\u001b[0m\u001b[0;34m\u001b[0m\u001b[0;34m\u001b[0m\u001b[0m\n\u001b[0m\u001b[1;32m      4\u001b[0m     \u001b[0mmfcc_features\u001b[0m \u001b[0;34m=\u001b[0m \u001b[0mmfcc\u001b[0m\u001b[0;34m(\u001b[0m\u001b[0maudio_samples\u001b[0m\u001b[0;34m,\u001b[0m \u001b[0msamplerate\u001b[0m\u001b[0;34m=\u001b[0m\u001b[0msample_rate\u001b[0m\u001b[0;34m)\u001b[0m  \u001b[0;31m# MFCC\u001b[0m\u001b[0;34m\u001b[0m\u001b[0;34m\u001b[0m\u001b[0m\n\u001b[1;32m      5\u001b[0m     \u001b[0;31m# Calculate Linear Prediction Coefficients (LPC) using a library or your custom implementation\u001b[0m\u001b[0;34m\u001b[0m\u001b[0;34m\u001b[0m\u001b[0m\n",
            "\u001b[0;31mTypeError\u001b[0m: 'numpy.ndarray' object is not callable"
          ]
        }
      ]
    }
  ]
}